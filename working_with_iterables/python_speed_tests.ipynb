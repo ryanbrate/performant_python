{
 "cells": [
  {
   "cell_type": "markdown",
   "metadata": {},
   "source": [
    "# Comparing the performance of various methods in assembling lists, generators and iterators for a simple case of iterables of 1 to 1e6"
   ]
  },
  {
   "cell_type": "code",
   "execution_count": 19,
   "metadata": {},
   "outputs": [
    {
     "data": {
      "application/javascript": [
       "\n",
       "IPython.keyboard_manager.command_shortcuts.add_shortcut('g', {\n",
       "    handler : function (event) {\n",
       "        var input = IPython.notebook.get_selected_cell().get_text();\n",
       "        var cmd = \"f = open('.toto.py', 'w');f.close()\";\n",
       "        if (input != \"\") {\n",
       "            cmd = '%%writefile .toto.py\\n' + input;\n",
       "        }\n",
       "        IPython.notebook.kernel.execute(cmd);\n",
       "        cmd = \"import os;os.system('gvim .toto.py')\";\n",
       "        IPython.notebook.kernel.execute(cmd);\n",
       "        return false;\n",
       "    }}\n",
       ");\n",
       "\n",
       "IPython.keyboard_manager.command_shortcuts.add_shortcut('u', {\n",
       "    handler : function (event) {\n",
       "        function handle_output(msg) {\n",
       "            var ret = msg.content.text;\n",
       "            IPython.notebook.get_selected_cell().set_text(ret);\n",
       "        }\n",
       "        var callback = {'output': handle_output};\n",
       "        var cmd = \"f = open('.toto.py', 'r');print(f.read())\";\n",
       "        IPython.notebook.kernel.execute(cmd, {iopub: callback}, {silent: false});\n",
       "        return false;\n",
       "    }}\n",
       ");\n",
       "        "
      ],
      "text/plain": [
       "<IPython.core.display.Javascript object>"
      ]
     },
     "metadata": {},
     "output_type": "display_data"
    },
    {
     "name": "stdout",
     "output_type": "stream",
     "text": [
      "Cell contents can now be edited via Gvim. From command mode use 'g' to open current cell contents in Gvim. After ':wq' from Gvim, use 'u' in command mode to update cell contents.\n"
     ]
    }
   ],
   "source": [
    "# %gvim"
   ]
  },
  {
   "cell_type": "code",
   "execution_count": 10,
   "metadata": {},
   "outputs": [],
   "source": [
    "from functools import reduce\n",
    "import operator\n",
    "import statistics as st\n",
    "from scipy.stats import t"
   ]
  },
  {
   "cell_type": "markdown",
   "metadata": {},
   "source": [
    "# supporting (t - test) functions"
   ]
  },
  {
   "cell_type": "code",
   "execution_count": 7,
   "metadata": {},
   "outputs": [],
   "source": [
    "def sidak(alpha, c):\n",
    "    \"\"\"Return alpha with Sidak correction, for s-1 successive t tests.\n",
    "    Args:\n",
    "        alpha (float): type 1 error rate between single test pair\n",
    "        c (int): number of successive t-tests to be performed\n",
    "    \"\"\"\n",
    "    return 1 - (1 - alpha)**(1/c)\n",
    "\n",
    "def multiple_t(options, alpha_sidak):\n",
    "    \"\"\"Perform s-1 t-tests between mean execution time point estimates of 1) most performant point estimate and 2) all others\n",
    "    Args:\n",
    "        options (dict): {\"for loop scenario\":(mean, sd, df),...}\n",
    "        alpha_sidak: significance wrt. each test pair. (sidak correction applied)\n",
    "    Return: \n",
    "        a list of option names (keys), of the significantly most performant.\n",
    "    \"\"\"\n",
    "    disregarded = []  # significantly slower\n",
    "    \n",
    "    pi1 = reduce(lambda i,j: i if i[1][0] < j[1][0] else j ,options.items())[0] # get the most performant option\n",
    "    \n",
    "    for pi2 in options.keys():\n",
    "        if pi1 == pi2:\n",
    "            continue\n",
    "        if is_significant((pi1, *options[pi1]), (pi2, *options[pi2]), alpha_sidak):\n",
    "            disregarded.append(pi2)  # pi1 significantly bigger (slower)\n",
    "\n",
    "    # return options minus significantly worse\n",
    "    return list(set(options.keys()) - set(disregarded))\n",
    "\n",
    "def is_significant(pi1, pi2, alpha_sidak):\n",
    "    \"\"\"Return True if the (pi2 - pi1) - E > 0 (i.e. pi2 is significantly longer).\n",
    "    Args:\n",
    "       pi1(list): (name, mean, sd, df) of option 1\n",
    "       pi2(list): (name, mean, sd, df) of option 2\n",
    "    \"\"\"\n",
    "    name1, mean1, sd1, df1 = pi1\n",
    "    name2, mean2, sd2, df2 = pi2\n",
    "\n",
    "    sd = st.sqrt(sd1**2 / (df1+1) + sd2**2 / (df2+1))\n",
    "    df = min(df1, df2)\n",
    "\n",
    "    # is pi1 significantly larger(slower))?\n",
    "    CI_lower = mean2 - mean1 - t.ppf(1 - alpha_sidak, df) * sd\n",
    "    \n",
    "    if  CI_lower > 0:\n",
    "        print(f\"CI: {CI_lower} < {name1}_mean - {name2}_mean < +INF\")\n",
    "        return True\n",
    "    else:\n",
    "        return False"
   ]
  },
  {
   "cell_type": "markdown",
   "metadata": {},
   "source": [
    "# sum vs ... "
   ]
  },
  {
   "cell_type": "code",
   "execution_count": 2,
   "metadata": {},
   "outputs": [
    {
     "name": "stdout",
     "output_type": "stream",
     "text": [
      "The slowest run took 4.39 times longer than the fastest. This could mean that an intermediate result is being cached.\n",
      "20.5 ms ± 8.91 ms per loop (mean ± std. dev. of 100 runs, 1 loop each)\n"
     ]
    }
   ],
   "source": [
    "%%timeit -n 1 -r 100\n",
    "a = sum(range(1000000))"
   ]
  },
  {
   "cell_type": "code",
   "execution_count": 8,
   "metadata": {},
   "outputs": [
    {
     "name": "stdout",
     "output_type": "stream",
     "text": [
      "The slowest run took 5.21 times longer than the fastest. This could mean that an intermediate result is being cached.\n",
      "55.5 ms ± 21.3 ms per loop (mean ± std. dev. of 100 runs, 1 loop each)\n"
     ]
    }
   ],
   "source": [
    "%%timeit -n 1 -r 100\n",
    "b = reduce(operator.add, range(1000000))"
   ]
  },
  {
   "cell_type": "markdown",
   "metadata": {},
   "source": [
    "## which are the significantly most faster?"
   ]
  },
  {
   "cell_type": "code",
   "execution_count": 11,
   "metadata": {},
   "outputs": [
    {
     "name": "stdout",
     "output_type": "stream",
     "text": [
      "CI: 31.18579419732333 < sum_mean - reduce_mean < +INF\n",
      "\n",
      "significantly fastest options: ['sum']\n"
     ]
    }
   ],
   "source": [
    "options = {\"sum\": (20.5, 8.91, 100), \"reduce\":(55.5, 21.3, 100)}\n",
    "alpha_sidak = sidak(0.05, 1)\n",
    "print(f\"\\nsignificantly fastest options: {multiple_t(options, alpha_sidak)}\")"
   ]
  },
  {
   "cell_type": "markdown",
   "metadata": {},
   "source": [
    "Thus, sum() is *significantly* faster than reduce()."
   ]
  },
  {
   "cell_type": "markdown",
   "metadata": {},
   "source": [
    "# Creating Lists ....(as opposed to iterator/ generator objects) "
   ]
  },
  {
   "cell_type": "markdown",
   "metadata": {},
   "source": [
    "### for loop "
   ]
  },
  {
   "cell_type": "code",
   "execution_count": 12,
   "metadata": {},
   "outputs": [
    {
     "name": "stdout",
     "output_type": "stream",
     "text": [
      "111 ms ± 27.5 ms per loop (mean ± std. dev. of 100 runs, 1 loop each)\n"
     ]
    }
   ],
   "source": [
    "%%timeit -n 1 -r 100\n",
    "results = []\n",
    "for i in range(1000000):\n",
    "    results.append(2*i)"
   ]
  },
  {
   "cell_type": "markdown",
   "metadata": {},
   "source": [
    "### while loop"
   ]
  },
  {
   "cell_type": "code",
   "execution_count": 13,
   "metadata": {},
   "outputs": [
    {
     "name": "stdout",
     "output_type": "stream",
     "text": [
      "168 ms ± 16.8 ms per loop (mean ± std. dev. of 100 runs, 1 loop each)\n"
     ]
    }
   ],
   "source": [
    "%%timeit -n 1 -r 100\n",
    "results = []\n",
    "i = 0\n",
    "while i < 1000000:\n",
    "    results.append(2*i)\n",
    "    i += 1"
   ]
  },
  {
   "cell_type": "markdown",
   "metadata": {},
   "source": [
    "### list(map)"
   ]
  },
  {
   "cell_type": "code",
   "execution_count": 14,
   "metadata": {},
   "outputs": [
    {
     "name": "stdout",
     "output_type": "stream",
     "text": [
      "117 ms ± 11.6 ms per loop (mean ± std. dev. of 100 runs, 1 loop each)\n"
     ]
    }
   ],
   "source": [
    "%%timeit -n 1 -r 100\n",
    "results = list(map(lambda i: 2*i, range(1000000)))"
   ]
  },
  {
   "cell_type": "markdown",
   "metadata": {},
   "source": [
    "### list(generator exp)"
   ]
  },
  {
   "cell_type": "code",
   "execution_count": 15,
   "metadata": {},
   "outputs": [
    {
     "name": "stdout",
     "output_type": "stream",
     "text": [
      "61.4 ms ± 3.11 ms per loop (mean ± std. dev. of 100 runs, 1 loop each)\n"
     ]
    }
   ],
   "source": [
    "%%timeit -n 1 -r 100\n",
    "results = list((i for i in range(1000000)))"
   ]
  },
  {
   "cell_type": "markdown",
   "metadata": {},
   "source": [
    "### list comprehension"
   ]
  },
  {
   "cell_type": "code",
   "execution_count": 16,
   "metadata": {},
   "outputs": [
    {
     "name": "stdout",
     "output_type": "stream",
     "text": [
      "44.6 ms ± 2.58 ms per loop (mean ± std. dev. of 100 runs, 1 loop each)\n"
     ]
    }
   ],
   "source": [
    "%%timeit -n 1 -r 100\n",
    "results = [i for i in range(1000000)]"
   ]
  },
  {
   "cell_type": "markdown",
   "metadata": {},
   "source": [
    "### significance via multiple t-tests"
   ]
  },
  {
   "cell_type": "code",
   "execution_count": 17,
   "metadata": {},
   "outputs": [
    {
     "name": "stdout",
     "output_type": "stream",
     "text": [
      "CI: 60.166840878827415 < list comp_mean - for_mean < +INF\n",
      "CI: 119.56430868038903 < list comp_mean - while_mean < +INF\n",
      "CI: 69.7182693686234 < list comp_mean - list(map())_mean < +INF\n",
      "CI: 15.888103119641642 < list comp_mean - list(generator exp)_mean < +INF\n",
      "\n",
      "significantly fastest options: ['list comp']\n"
     ]
    }
   ],
   "source": [
    "options = {\"for\":(111, 27.5, 100), \"while\": (168, 16.8, 100), \"list(map())\": (117, 11.6, 100), \"list(generator exp)\":(61.4, 3.11, 100), \"list comp\": (44.6, 2.58, 100)}\n",
    "alpha_sidak = sidak(0.05, 4)\n",
    "print(f\"\\nsignificantly fastest options: {multiple_t(options, alpha_sidak)}\")"
   ]
  },
  {
   "cell_type": "markdown",
   "metadata": {},
   "source": [
    "## Filtering"
   ]
  },
  {
   "cell_type": "code",
   "execution_count": 18,
   "metadata": {},
   "outputs": [
    {
     "name": "stdout",
     "output_type": "stream",
     "text": [
      "The slowest run took 4.81 times longer than the fastest. This could mean that an intermediate result is being cached.\n",
      "77.9 ms ± 26.8 ms per loop (mean ± std. dev. of 100 runs, 1 loop each)\n"
     ]
    }
   ],
   "source": [
    "%%timeit -n 1 -r 100\n",
    "squares = [i for i in range(1000000) if i%2==0 ]"
   ]
  },
  {
   "cell_type": "code",
   "execution_count": 19,
   "metadata": {},
   "outputs": [
    {
     "name": "stdout",
     "output_type": "stream",
     "text": [
      "125 ms ± 10.8 ms per loop (mean ± std. dev. of 100 runs, 1 loop each)\n"
     ]
    }
   ],
   "source": [
    "%%timeit -n 1 -r 100\n",
    "list(filter(lambda i: i%2==0, range(1000000)))"
   ]
  },
  {
   "cell_type": "code",
   "execution_count": 20,
   "metadata": {},
   "outputs": [
    {
     "name": "stdout",
     "output_type": "stream",
     "text": [
      "92.2 ms ± 9.99 ms per loop (mean ± std. dev. of 100 runs, 1 loop each)\n"
     ]
    }
   ],
   "source": [
    "%%timeit -n 1 -r 100\n",
    "squares = list((i for i in range(1000000) if i%2==0))"
   ]
  },
  {
   "cell_type": "markdown",
   "metadata": {},
   "source": [
    "### significance via t-tests"
   ]
  },
  {
   "cell_type": "code",
   "execution_count": 21,
   "metadata": {},
   "outputs": [
    {
     "name": "stdout",
     "output_type": "stream",
     "text": [
      "CI: 41.4120892050519 < list comp_mean - list(filter)_mean < +INF\n",
      "CI: 8.669745265285776 < list comp_mean - list(generator)_mean < +INF\n",
      "\n",
      "significantly fastest options: ['list comp']\n"
     ]
    }
   ],
   "source": [
    "options = {\"list comp\":(77.9, 26.8, 100), \"list(filter)\": (125, 10.8, 100), \"list(generator)\":(92.2, 9.99, 100)}\n",
    "alpha_sidak = sidak(0.05, 2)\n",
    "print(f\"\\nsignificantly fastest options: {multiple_t(options, alpha_sidak)}\")"
   ]
  },
  {
   "cell_type": "markdown",
   "metadata": {},
   "source": [
    "# Creating iterables"
   ]
  },
  {
   "cell_type": "markdown",
   "metadata": {},
   "source": [
    "## generator vs map vs list comp, with subsequent iterable used by list-comp"
   ]
  },
  {
   "cell_type": "markdown",
   "metadata": {},
   "source": [
    "### list comprehension"
   ]
  },
  {
   "cell_type": "code",
   "execution_count": 22,
   "metadata": {},
   "outputs": [
    {
     "name": "stdout",
     "output_type": "stream",
     "text": [
      "132 ms ± 24.6 ms per loop (mean ± std. dev. of 100 runs, 1 loop each)\n"
     ]
    }
   ],
   "source": [
    "%%timeit -n 1 -r 100\n",
    "result = [i for i in range(1000000)]\n",
    "result2 = [2*i for i in result]"
   ]
  },
  {
   "cell_type": "markdown",
   "metadata": {},
   "source": [
    "### map (lambda)"
   ]
  },
  {
   "cell_type": "code",
   "execution_count": 23,
   "metadata": {},
   "outputs": [
    {
     "name": "stdout",
     "output_type": "stream",
     "text": [
      "147 ms ± 19.2 ms per loop (mean ± std. dev. of 100 runs, 1 loop each)\n"
     ]
    }
   ],
   "source": [
    "%%timeit -n 1 -r 100\n",
    "result = map(lambda i: i, range(1000000))\n",
    "result = [2*i for i in result]"
   ]
  },
  {
   "cell_type": "markdown",
   "metadata": {},
   "source": [
    "### map (fun)"
   ]
  },
  {
   "cell_type": "code",
   "execution_count": 24,
   "metadata": {},
   "outputs": [
    {
     "name": "stdout",
     "output_type": "stream",
     "text": [
      "138 ms ± 14.9 ms per loop (mean ± std. dev. of 100 runs, 1 loop each)\n"
     ]
    }
   ],
   "source": [
    "%%timeit -n 1 -r 100\n",
    "\n",
    "def f(i):\n",
    "    return i\n",
    "\n",
    "result = map(f, range(1000000))\n",
    "result = [2*i for i in result]"
   ]
  },
  {
   "cell_type": "markdown",
   "metadata": {},
   "source": [
    "### generator (fun)"
   ]
  },
  {
   "cell_type": "code",
   "execution_count": 30,
   "metadata": {},
   "outputs": [
    {
     "name": "stdout",
     "output_type": "stream",
     "text": [
      "110 ms ± 25 ms per loop (mean ± std. dev. of 100 runs, 1 loop each)\n"
     ]
    }
   ],
   "source": [
    "%%timeit -n 1 -r 100\n",
    "def generator():\n",
    "    for i in range(1000000):\n",
    "        yield i\n",
    "result2 = [2*i for i in generator()]"
   ]
  },
  {
   "cell_type": "markdown",
   "metadata": {},
   "source": [
    "### generator (expression)"
   ]
  },
  {
   "cell_type": "code",
   "execution_count": 29,
   "metadata": {},
   "outputs": [
    {
     "name": "stdout",
     "output_type": "stream",
     "text": [
      "110 ms ± 18.1 ms per loop (mean ± std. dev. of 100 runs, 1 loop each)\n"
     ]
    }
   ],
   "source": [
    "%%timeit -n 1 -r 100\n",
    "result = (i for i in range(1000000))\n",
    "result2 = [2*i for i in result]"
   ]
  },
  {
   "cell_type": "code",
   "execution_count": 31,
   "metadata": {},
   "outputs": [
    {
     "name": "stdout",
     "output_type": "stream",
     "text": [
      "CI: 14.084955054179066 < generator (exp)_mean - list comp_mean < +INF\n",
      "CI: 29.886438054125172 < generator (exp)_mean - map (lambda)_mean < +INF\n",
      "CI: 21.432246363658663 < generator (exp)_mean - map (fun)_mean < +INF\n",
      "\n",
      "significantly fastest options: ['generator (fun)', 'generator (exp)']\n"
     ]
    }
   ],
   "source": [
    "options = {\"list comp\":(132, 24.6, 100), \"map (lambda)\": (147, 19.2, 100), \"map (fun)\": (138, 14.9, 100), \"generator (fun)\":(110, 25, 100), \"generator (exp)\": (110, 25, 100)}\n",
    "alpha_sidak = sidak(0.05, 4)\n",
    "print(f\"\\nsignificantly fastest options: {multiple_t(options, alpha_sidak)}\")"
   ]
  },
  {
   "cell_type": "markdown",
   "metadata": {},
   "source": [
    "# Reducing operations"
   ]
  },
  {
   "cell_type": "code",
   "execution_count": 32,
   "metadata": {},
   "outputs": [
    {
     "name": "stdout",
     "output_type": "stream",
     "text": [
      "96.7 ms ± 14.6 ms per loop (mean ± std. dev. of 100 runs, 1 loop each)\n"
     ]
    }
   ],
   "source": [
    "%%timeit -n 1 -r 100\n",
    "result = reduce(lambda i,j : i if i >j else j, range(1000000))"
   ]
  },
  {
   "cell_type": "code",
   "execution_count": 33,
   "metadata": {},
   "outputs": [
    {
     "name": "stdout",
     "output_type": "stream",
     "text": [
      "49.9 ms ± 4.42 ms per loop (mean ± std. dev. of 100 runs, 1 loop each)\n"
     ]
    }
   ],
   "source": [
    "%%timeit -n 1 -r 100\n",
    "result = 0\n",
    "for i in range(1000000):\n",
    "    if i > result: result = i"
   ]
  },
  {
   "cell_type": "code",
   "execution_count": 34,
   "metadata": {},
   "outputs": [
    {
     "name": "stdout",
     "output_type": "stream",
     "text": [
      "CI: 44.27998263069979 < for loop_mean - reduce()_mean < +INF\n",
      "\n",
      "significantly fastest options: ['for loop']\n"
     ]
    }
   ],
   "source": [
    "options = {\"reduce()\":(96.7, 14.6, 100), \"for loop\": (49.9, 4.42, 100)}\n",
    "alpha_sidak = sidak(0.05, 1)\n",
    "print(f\"\\nsignificantly fastest options: {multiple_t(options, alpha_sidak)}\")"
   ]
  },
  {
   "cell_type": "markdown",
   "metadata": {},
   "source": [
    "# Filtering operations"
   ]
  },
  {
   "cell_type": "markdown",
   "metadata": {},
   "source": [
    "_then using the resulting iterable in list comprehenson_"
   ]
  },
  {
   "cell_type": "code",
   "execution_count": 35,
   "metadata": {},
   "outputs": [
    {
     "name": "stdout",
     "output_type": "stream",
     "text": [
      "230 ms ± 34.1 ms per loop (mean ± std. dev. of 100 runs, 1 loop each)\n"
     ]
    }
   ],
   "source": [
    "%%timeit -n 1 -r 100\n",
    "result = filter(lambda i: i > 500000, range(1000000))\n",
    "result2 = [i**2 for i in result]"
   ]
  },
  {
   "cell_type": "code",
   "execution_count": 36,
   "metadata": {},
   "outputs": [
    {
     "name": "stdout",
     "output_type": "stream",
     "text": [
      "194 ms ± 5.69 ms per loop (mean ± std. dev. of 100 runs, 1 loop each)\n"
     ]
    }
   ],
   "source": [
    "%%timeit -n 1 -r 100\n",
    "result = []\n",
    "for i in range(1000000):\n",
    "    if i > 500000: result.append(i)\n",
    "        \n",
    "result2 = [i**2 for i in result]"
   ]
  },
  {
   "cell_type": "code",
   "execution_count": 37,
   "metadata": {},
   "outputs": [
    {
     "name": "stdout",
     "output_type": "stream",
     "text": [
      "182 ms ± 5.52 ms per loop (mean ± std. dev. of 100 runs, 1 loop each)\n"
     ]
    }
   ],
   "source": [
    "%%timeit -n 1 -r 100\n",
    "result = [i for i in range(1000000) if i > 500000]\n",
    "result2 = [i**2 for i in result]"
   ]
  },
  {
   "cell_type": "code",
   "execution_count": 38,
   "metadata": {},
   "outputs": [
    {
     "name": "stdout",
     "output_type": "stream",
     "text": [
      "181 ms ± 5.67 ms per loop (mean ± std. dev. of 100 runs, 1 loop each)\n"
     ]
    }
   ],
   "source": [
    "%%timeit -n 1 -r 100\n",
    "result = (i for i in range(1000000) if i > 500000)\n",
    "result2 = [i**2 for i in result]"
   ]
  },
  {
   "cell_type": "code",
   "execution_count": 39,
   "metadata": {},
   "outputs": [
    {
     "name": "stdout",
     "output_type": "stream",
     "text": [
      "CI: 40.60211671885891 < gen exp_mean - filter()_mean < +INF\n",
      "CI: 10.280924315284492 < gen exp_mean - for loop_mean < +INF\n",
      "\n",
      "significantly fastest options: ['gen exp', 'list comp']\n"
     ]
    }
   ],
   "source": [
    "options = {\"filter()\":(230, 34.1, 100), \"for loop\": (194, 5.69, 100), \"list comp\":(182, 5.52, 100), \"gen exp\":(182, 5.67, 100)}\n",
    "alpha_sidak = sidak(0.05, 3)\n",
    "print(f\"\\nsignificantly fastest options: {multiple_t(options, alpha_sidak)}\")"
   ]
  }
 ],
 "metadata": {
  "kernelspec": {
   "display_name": "Python 3.8.2 64-bit",
   "language": "python",
   "name": "python38264bit1c8256705bec436ea7e187118e353343"
  },
  "language_info": {
   "codemirror_mode": {
    "name": "ipython",
    "version": 3
   },
   "file_extension": ".py",
   "mimetype": "text/x-python",
   "name": "python",
   "nbconvert_exporter": "python",
   "pygments_lexer": "ipython3",
   "version": "3.8.5"
  }
 },
 "nbformat": 4,
 "nbformat_minor": 4
}

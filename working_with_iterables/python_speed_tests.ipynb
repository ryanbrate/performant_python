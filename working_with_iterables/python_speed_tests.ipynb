{
 "cells": [
  {
   "cell_type": "markdown",
   "metadata": {},
   "source": [
    "# Comparing the performance of various methods in assembling lists, generators and iterators for a simple case of iterables of 1 to 1e6"
   ]
  },
  {
   "cell_type": "code",
   "execution_count": 19,
   "metadata": {},
   "outputs": [
    {
     "data": {
      "application/javascript": [
       "\n",
       "IPython.keyboard_manager.command_shortcuts.add_shortcut('g', {\n",
       "    handler : function (event) {\n",
       "        var input = IPython.notebook.get_selected_cell().get_text();\n",
       "        var cmd = \"f = open('.toto.py', 'w');f.close()\";\n",
       "        if (input != \"\") {\n",
       "            cmd = '%%writefile .toto.py\\n' + input;\n",
       "        }\n",
       "        IPython.notebook.kernel.execute(cmd);\n",
       "        cmd = \"import os;os.system('gvim .toto.py')\";\n",
       "        IPython.notebook.kernel.execute(cmd);\n",
       "        return false;\n",
       "    }}\n",
       ");\n",
       "\n",
       "IPython.keyboard_manager.command_shortcuts.add_shortcut('u', {\n",
       "    handler : function (event) {\n",
       "        function handle_output(msg) {\n",
       "            var ret = msg.content.text;\n",
       "            IPython.notebook.get_selected_cell().set_text(ret);\n",
       "        }\n",
       "        var callback = {'output': handle_output};\n",
       "        var cmd = \"f = open('.toto.py', 'r');print(f.read())\";\n",
       "        IPython.notebook.kernel.execute(cmd, {iopub: callback}, {silent: false});\n",
       "        return false;\n",
       "    }}\n",
       ");\n",
       "        "
      ],
      "text/plain": [
       "<IPython.core.display.Javascript object>"
      ]
     },
     "metadata": {},
     "output_type": "display_data"
    },
    {
     "name": "stdout",
     "output_type": "stream",
     "text": [
      "Cell contents can now be edited via Gvim. From command mode use 'g' to open current cell contents in Gvim. After ':wq' from Gvim, use 'u' in command mode to update cell contents.\n"
     ]
    }
   ],
   "source": [
    "# %gvim"
   ]
  },
  {
   "cell_type": "code",
   "execution_count": 2,
   "metadata": {},
   "outputs": [],
   "source": [
    "from functools import reduce\n",
    "import operator\n",
    "import statistics as st"
   ]
  },
  {
   "cell_type": "markdown",
   "metadata": {},
   "source": [
    "# supporting (t - test) functions"
   ]
  },
  {
   "cell_type": "code",
   "execution_count": 151,
   "metadata": {},
   "outputs": [],
   "source": [
    "def sidak(alpha, c):\n",
    "    \"\"\"Return alpha with Sidak correction, for s-1 successive t tests.\n",
    "    Args:\n",
    "        alpha (float): type 1 error rate between single test pair\n",
    "        c (int): number of successive t-tests to be performed\n",
    "    \"\"\"\n",
    "    return 1 - (1 - alpha)**(1/c)\n",
    "\n",
    "def multiple_t(options, alpha_sidak):\n",
    "    \"\"\"Perform s-1 t-tests between mean execution time point estimates of 1) most performant point estimate and 2) all others\n",
    "    Args:\n",
    "        options (dict): {\"for loop scenario\":(mean, sd, df),...}\n",
    "        alpha_sidak: significance wrt. each test pair. (sidak correction applied)\n",
    "    Return: \n",
    "        a list of option names (keys), of the significantly most performant.\n",
    "    \"\"\"\n",
    "    disregarded = []  # significantly slower\n",
    "    \n",
    "    pi1 = reduce(lambda i,j: i if i[1][0] < j[1][0] else j ,options.items())[0] # get the most performant option\n",
    "    \n",
    "    for pi2 in options.keys():\n",
    "        if pi1 == pi2:\n",
    "            continue\n",
    "        if is_significant((pi1, *options[pi1]), (pi2, *options[pi2]), alpha_sidak):\n",
    "            disregarded.append(pi2)  # pi1 significantly bigger (slower)\n",
    "\n",
    "    # return options minus significantly worse\n",
    "    return list(set(options.keys()) - set(disregarded))\n",
    "\n",
    "def is_significant(pi1, pi2, alpha_sidak):\n",
    "    \"\"\"Return True if the (pi2 - pi1) - E > 0 (i.e. pi2 is significantly longer).\n",
    "    Args:\n",
    "       pi1(list): (name, mean, sd, df) of option 1\n",
    "       pi2(list): (name, mean, sd, df) of option 2\n",
    "    \"\"\"\n",
    "    name1, mean1, sd1, df1 = pi1\n",
    "    name2, mean2, sd2, df2 = pi2\n",
    "\n",
    "    sd = st.sqrt(sd1**2 / (df1+1) + sd2**2 / (df2+1))\n",
    "    df = min(df1, df2)\n",
    "\n",
    "    # is pi1 significantly larger(slower))?\n",
    "    CI_lower = mean2 - mean1 - t.ppf(1 - alpha_sidak, df) * sd\n",
    "    \n",
    "    if  CI_lower > 0:\n",
    "        print(f\"CI: {CI_lower} < {name1}_mean - {name2}_mean < +INF\")\n",
    "        return True\n",
    "    else:\n",
    "        return False"
   ]
  },
  {
   "cell_type": "markdown",
   "metadata": {},
   "source": [
    "# sum vs ... "
   ]
  },
  {
   "cell_type": "code",
   "execution_count": 3,
   "metadata": {},
   "outputs": [
    {
     "name": "stdout",
     "output_type": "stream",
     "text": [
      "21 ms ± 1.32 ms per loop (mean ± std. dev. of 7 runs, 10 loops each)\n"
     ]
    }
   ],
   "source": [
    "%%timeit\n",
    "a = sum(range(1000000))"
   ]
  },
  {
   "cell_type": "code",
   "execution_count": 4,
   "metadata": {},
   "outputs": [
    {
     "name": "stdout",
     "output_type": "stream",
     "text": [
      "56.8 ms ± 3.66 ms per loop (mean ± std. dev. of 7 runs, 10 loops each)\n"
     ]
    }
   ],
   "source": [
    "%%timeit\n",
    "b = reduce(operator.add, range(1000000))"
   ]
  },
  {
   "cell_type": "markdown",
   "metadata": {},
   "source": [
    "## which are the significantly most faster?"
   ]
  },
  {
   "cell_type": "code",
   "execution_count": 145,
   "metadata": {},
   "outputs": [
    {
     "name": "stdout",
     "output_type": "stream",
     "text": [
      "sum\n",
      "reduce\n",
      "CI: 35.0303054791353 < sum_mean - reduce_mean < +INF\n",
      "\n",
      "significantly fastest options: ['sum']\n"
     ]
    }
   ],
   "source": [
    "options = {\"sum\": (21, 1.32, 70), \"reduce\":(56.8, 3.66, 70)}\n",
    "alpha_sidak = sidak(0.05, 1)\n",
    "print(f\"\\nsignificantly fastest options: {multiple_t(options, alpha_sidak)}\")"
   ]
  },
  {
   "cell_type": "markdown",
   "metadata": {},
   "source": [
    "Thus, sum() is *significantly* faster than reduce()."
   ]
  },
  {
   "cell_type": "markdown",
   "metadata": {},
   "source": [
    "# Creating Lists ....(as opposed to iterator/ generator objects) "
   ]
  },
  {
   "cell_type": "markdown",
   "metadata": {},
   "source": [
    "### for loop "
   ]
  },
  {
   "cell_type": "code",
   "execution_count": 114,
   "metadata": {},
   "outputs": [
    {
     "name": "stdout",
     "output_type": "stream",
     "text": [
      "116 ms ± 4.46 ms per loop (mean ± std. dev. of 7 runs, 1 loop each)\n"
     ]
    }
   ],
   "source": [
    "%%timeit\n",
    "results = []\n",
    "for i in range(1000000):\n",
    "    results.append(2*i)"
   ]
  },
  {
   "cell_type": "markdown",
   "metadata": {},
   "source": [
    "### while loop"
   ]
  },
  {
   "cell_type": "code",
   "execution_count": 115,
   "metadata": {},
   "outputs": [
    {
     "name": "stdout",
     "output_type": "stream",
     "text": [
      "171 ms ± 20.5 ms per loop (mean ± std. dev. of 7 runs, 1 loop each)\n"
     ]
    }
   ],
   "source": [
    "%%timeit\n",
    "results = []\n",
    "i = 0\n",
    "while i < 1000000:\n",
    "    results.append(2*i)\n",
    "    i += 1"
   ]
  },
  {
   "cell_type": "markdown",
   "metadata": {},
   "source": [
    "### list(map)"
   ]
  },
  {
   "cell_type": "code",
   "execution_count": 7,
   "metadata": {},
   "outputs": [
    {
     "name": "stdout",
     "output_type": "stream",
     "text": [
      "123 ms ± 2.19 ms per loop (mean ± std. dev. of 7 runs, 10 loops each)\n"
     ]
    }
   ],
   "source": [
    "%%timeit\n",
    "results = list(map(lambda i: 2*i, range(1000000)))"
   ]
  },
  {
   "cell_type": "markdown",
   "metadata": {},
   "source": [
    "### list(generator exp)"
   ]
  },
  {
   "cell_type": "code",
   "execution_count": 106,
   "metadata": {},
   "outputs": [
    {
     "name": "stdout",
     "output_type": "stream",
     "text": [
      "56.8 ms ± 870 µs per loop (mean ± std. dev. of 7 runs, 10 loops each)\n"
     ]
    }
   ],
   "source": [
    "%%timeit\n",
    "results = list((i for i in range(1000000)))"
   ]
  },
  {
   "cell_type": "markdown",
   "metadata": {},
   "source": [
    "### list comprehension"
   ]
  },
  {
   "cell_type": "code",
   "execution_count": 8,
   "metadata": {},
   "outputs": [
    {
     "name": "stdout",
     "output_type": "stream",
     "text": [
      "56.7 ms ± 702 µs per loop (mean ± std. dev. of 7 runs, 10 loops each)\n"
     ]
    }
   ],
   "source": [
    "%%timeit\n",
    "results = [i for i in range(1000000)]"
   ]
  },
  {
   "cell_type": "markdown",
   "metadata": {},
   "source": [
    "### significance via multiple t-tests"
   ]
  },
  {
   "cell_type": "code",
   "execution_count": 152,
   "metadata": {},
   "outputs": [
    {
     "name": "stdout",
     "output_type": "stream",
     "text": [
      "CI: 54.83461560169494 < list comp_mean - for_mean < +INF\n",
      "CI: 93.80248454296273 < list comp_mean - while_mean < +INF\n",
      "CI: 65.67695170886289 < list comp_mean - list(map())_mean < +INF\n",
      "\n",
      "significantly fastest options: ['list comp', 'list(generator exp)']\n"
     ]
    }
   ],
   "source": [
    "options = {\"for\":(116, 4.46, 7), \"while\": (171, 20.5, 7), \"list(map())\": (123, 2.19, 70), \"list(generator exp)\":(56.8, 0.87, 70), \"list comp\": (56.7, 0.702, 70)}\n",
    "alpha_sidak = sidak(0.05, 4)\n",
    "print(f\"\\nsignificantly fastest options: {multiple_t(options, alpha_sidak)}\")"
   ]
  },
  {
   "cell_type": "markdown",
   "metadata": {},
   "source": [
    "## Filtering"
   ]
  },
  {
   "cell_type": "code",
   "execution_count": 75,
   "metadata": {},
   "outputs": [
    {
     "name": "stdout",
     "output_type": "stream",
     "text": [
      "64.3 ms ± 2.12 ms per loop (mean ± std. dev. of 7 runs, 10 loops each)\n"
     ]
    }
   ],
   "source": [
    "%%timeit\n",
    "squares = [i for i in range(1000000) if i%2==0 ]"
   ]
  },
  {
   "cell_type": "code",
   "execution_count": 76,
   "metadata": {},
   "outputs": [
    {
     "name": "stdout",
     "output_type": "stream",
     "text": [
      "100 ms ± 1.19 ms per loop (mean ± std. dev. of 7 runs, 10 loops each)\n"
     ]
    }
   ],
   "source": [
    "%%timeit\n",
    "list(filter(lambda i: i%2==0, range(1000000)))"
   ]
  },
  {
   "cell_type": "code",
   "execution_count": 108,
   "metadata": {},
   "outputs": [
    {
     "name": "stdout",
     "output_type": "stream",
     "text": [
      "67.6 ms ± 1.15 ms per loop (mean ± std. dev. of 7 runs, 10 loops each)\n"
     ]
    }
   ],
   "source": [
    "%%timeit\n",
    "squares = list((i for i in range(1000000) if i%2==0))"
   ]
  },
  {
   "cell_type": "markdown",
   "metadata": {},
   "source": [
    "### significance via t-tests"
   ]
  },
  {
   "cell_type": "code",
   "execution_count": 153,
   "metadata": {},
   "outputs": [
    {
     "name": "stdout",
     "output_type": "stream",
     "text": [
      "CI: 35.12620191928124 < list comp_mean - list(filter)_mean < +INF\n",
      "CI: 2.7307634480723184 < list comp_mean - list(generator)_mean < +INF\n",
      "\n",
      "significantly fastest options: ['list comp']\n"
     ]
    }
   ],
   "source": [
    "options = {\"list comp\":(64.3, 2.12, 70), \"list(filter)\": (100, 1.19, 70), \"list(generator)\":(67.6, 1.15, 70)}\n",
    "alpha_sidak = sidak(0.05, 2)\n",
    "print(f\"\\nsignificantly fastest options: {multiple_t(options, alpha_sidak)}\")"
   ]
  },
  {
   "cell_type": "markdown",
   "metadata": {},
   "source": [
    "# Creating iterables"
   ]
  },
  {
   "cell_type": "markdown",
   "metadata": {},
   "source": [
    "## generator vs map vs list comp, with subsequent iterable used by list-comp"
   ]
  },
  {
   "cell_type": "markdown",
   "metadata": {},
   "source": [
    "### list comprehension"
   ]
  },
  {
   "cell_type": "code",
   "execution_count": 91,
   "metadata": {},
   "outputs": [
    {
     "name": "stdout",
     "output_type": "stream",
     "text": [
      "101 ms ± 4.46 ms per loop (mean ± std. dev. of 7 runs, 10 loops each)\n"
     ]
    }
   ],
   "source": [
    "%%timeit\n",
    "result = [i for i in range(1000000)]\n",
    "result2 = [2*i for i in result]"
   ]
  },
  {
   "cell_type": "markdown",
   "metadata": {},
   "source": [
    "### map (lambda)"
   ]
  },
  {
   "cell_type": "code",
   "execution_count": 94,
   "metadata": {},
   "outputs": [
    {
     "name": "stdout",
     "output_type": "stream",
     "text": [
      "107 ms ± 1.24 ms per loop (mean ± std. dev. of 7 runs, 10 loops each)\n"
     ]
    }
   ],
   "source": [
    "%%timeit\n",
    "result = map(lambda i: i, range(1000000))\n",
    "result = [2*i for i in result]"
   ]
  },
  {
   "cell_type": "markdown",
   "metadata": {},
   "source": [
    "### map (fun)"
   ]
  },
  {
   "cell_type": "code",
   "execution_count": 99,
   "metadata": {},
   "outputs": [
    {
     "name": "stdout",
     "output_type": "stream",
     "text": [
      "104 ms ± 1.58 ms per loop (mean ± std. dev. of 7 runs, 10 loops each)\n"
     ]
    }
   ],
   "source": [
    "%%timeit\n",
    "\n",
    "def f(i):\n",
    "    return i\n",
    "\n",
    "result = map(f, range(1000000))\n",
    "result = [2*i for i in result]"
   ]
  },
  {
   "cell_type": "markdown",
   "metadata": {},
   "source": [
    "### generator (fun)"
   ]
  },
  {
   "cell_type": "code",
   "execution_count": 93,
   "metadata": {},
   "outputs": [
    {
     "name": "stdout",
     "output_type": "stream",
     "text": [
      "93.9 ms ± 1.01 ms per loop (mean ± std. dev. of 7 runs, 10 loops each)\n"
     ]
    }
   ],
   "source": [
    "%%timeit\n",
    "def generator():\n",
    "    for i in range(1000000):\n",
    "        yield i\n",
    "result2 = [2*i for i in generator()]"
   ]
  },
  {
   "cell_type": "markdown",
   "metadata": {},
   "source": [
    "### generator (expression)"
   ]
  },
  {
   "cell_type": "code",
   "execution_count": 103,
   "metadata": {},
   "outputs": [
    {
     "name": "stdout",
     "output_type": "stream",
     "text": [
      "93.3 ms ± 2.51 ms per loop (mean ± std. dev. of 7 runs, 10 loops each)\n"
     ]
    }
   ],
   "source": [
    "%%timeit\n",
    "result = (i for i in range(1000000))\n",
    "result2 = [2*i for i in result]"
   ]
  },
  {
   "cell_type": "code",
   "execution_count": 154,
   "metadata": {},
   "outputs": [
    {
     "name": "stdout",
     "output_type": "stream",
     "text": [
      "CI: 6.313497327638736 < generator (exp)_mean - list comp_mean < +INF\n",
      "CI: 12.941539120656872 < generator (exp)_mean - map (lambda)_mean < +INF\n",
      "CI: 9.896485310682017 < generator (exp)_mean - map (fun)_mean < +INF\n",
      "\n",
      "significantly fastest options: ['generator (exp)', 'generator (fun)']\n"
     ]
    }
   ],
   "source": [
    "options = {\"list comp\":(101, 4.46, 70), \"map (lambda)\": (107, 1.24, 70), \"map (fun)\": (104, 1.58, 70), \"generator (fun)\":(93.9, 1.01, 70), \"generator (exp)\": (93.3, 2.51, 70)}\n",
    "alpha_sidak = sidak(0.05, 4)\n",
    "print(f\"\\nsignificantly fastest options: {multiple_t(options, alpha_sidak)}\")"
   ]
  },
  {
   "cell_type": "markdown",
   "metadata": {},
   "source": [
    "# Reducing operations"
   ]
  },
  {
   "cell_type": "code",
   "execution_count": 131,
   "metadata": {},
   "outputs": [
    {
     "name": "stdout",
     "output_type": "stream",
     "text": [
      "95.9 ms ± 1.59 ms per loop (mean ± std. dev. of 7 runs, 1 loop each)\n"
     ]
    }
   ],
   "source": [
    "%%timeit\n",
    "result = reduce(lambda i,j : i if i >j else j, range(1000000))"
   ]
  },
  {
   "cell_type": "code",
   "execution_count": 130,
   "metadata": {},
   "outputs": [
    {
     "name": "stdout",
     "output_type": "stream",
     "text": [
      "48.9 ms ± 837 µs per loop (mean ± std. dev. of 7 runs, 10 loops each)\n"
     ]
    }
   ],
   "source": [
    "%%timeit\n",
    "result = 0\n",
    "for i in range(1000000):\n",
    "    if i > result: result = i"
   ]
  },
  {
   "cell_type": "code",
   "execution_count": 155,
   "metadata": {},
   "outputs": [
    {
     "name": "stdout",
     "output_type": "stream",
     "text": [
      "CI: 45.9184632978186 < for loop_mean - reduce()_mean < +INF\n",
      "\n",
      "significantly fastest options: ['for loop']\n"
     ]
    }
   ],
   "source": [
    "options = {\"reduce()\":(95.9, 1.59, 7), \"for loop\": (48.9, 0.837, 70)}\n",
    "alpha_sidak = sidak(0.05, 1)\n",
    "print(f\"\\nsignificantly fastest options: {multiple_t(options, alpha_sidak)}\")"
   ]
  },
  {
   "cell_type": "markdown",
   "metadata": {},
   "source": [
    "# Filtering operations"
   ]
  },
  {
   "cell_type": "markdown",
   "metadata": {},
   "source": [
    "_then using the resulting iterable in list comprehenson_"
   ]
  },
  {
   "cell_type": "code",
   "execution_count": 136,
   "metadata": {},
   "outputs": [
    {
     "name": "stdout",
     "output_type": "stream",
     "text": [
      "248 ms ± 12 ms per loop (mean ± std. dev. of 7 runs, 1 loop each)\n"
     ]
    }
   ],
   "source": [
    "%%timeit\n",
    "result = filter(lambda i: i > 500000, range(1000000))\n",
    "result2 = [i**2 for i in result]"
   ]
  },
  {
   "cell_type": "code",
   "execution_count": 137,
   "metadata": {},
   "outputs": [
    {
     "name": "stdout",
     "output_type": "stream",
     "text": [
      "225 ms ± 15.4 ms per loop (mean ± std. dev. of 7 runs, 1 loop each)\n"
     ]
    }
   ],
   "source": [
    "%%timeit\n",
    "result = []\n",
    "for i in range(1000000):\n",
    "    if i > 500000: result.append(i)\n",
    "        \n",
    "result2 = [i**2 for i in result]"
   ]
  },
  {
   "cell_type": "code",
   "execution_count": 140,
   "metadata": {},
   "outputs": [
    {
     "name": "stdout",
     "output_type": "stream",
     "text": [
      "199 ms ± 5.98 ms per loop (mean ± std. dev. of 7 runs, 1 loop each)\n"
     ]
    }
   ],
   "source": [
    "%%timeit\n",
    "result = [i for i in range(1000000) if i > 500000]\n",
    "result2 = [i**2 for i in result]"
   ]
  },
  {
   "cell_type": "code",
   "execution_count": 141,
   "metadata": {},
   "outputs": [
    {
     "name": "stdout",
     "output_type": "stream",
     "text": [
      "198 ms ± 11.2 ms per loop (mean ± std. dev. of 7 runs, 1 loop each)\n"
     ]
    }
   ],
   "source": [
    "%%timeit\n",
    "result = (i for i in range(1000000) if i > 500000)\n",
    "result2 = [i**2 for i in result]"
   ]
  },
  {
   "cell_type": "code",
   "execution_count": 156,
   "metadata": {},
   "outputs": [
    {
     "name": "stdout",
     "output_type": "stream",
     "text": [
      "CI: 34.7360200973572 < gen exp_mean - filter()_mean < +INF\n",
      "CI: 9.29276909808802 < gen exp_mean - for loop_mean < +INF\n",
      "\n",
      "significantly fastest options: ['list comp', 'gen exp']\n"
     ]
    }
   ],
   "source": [
    "options = {\"filter()\":(248, 12, 7), \"for loop\": (225, 15.4, 7), \"list comp\":(199, 5.98, 7), \"gen exp\":(198, 11.2, 7)}\n",
    "alpha_sidak = sidak(0.05, 3)\n",
    "print(f\"\\nsignificantly fastest options: {multiple_t(options, alpha_sidak)}\")"
   ]
  },
  {
   "cell_type": "code",
   "execution_count": null,
   "metadata": {},
   "outputs": [],
   "source": []
  }
 ],
 "metadata": {
  "kernelspec": {
   "display_name": "Python 3.8.2 64-bit",
   "language": "python",
   "name": "python38264bit1c8256705bec436ea7e187118e353343"
  },
  "language_info": {
   "codemirror_mode": {
    "name": "ipython",
    "version": 3
   },
   "file_extension": ".py",
   "mimetype": "text/x-python",
   "name": "python",
   "nbconvert_exporter": "python",
   "pygments_lexer": "ipython3",
   "version": "3.8.5"
  }
 },
 "nbformat": 4,
 "nbformat_minor": 4
}
